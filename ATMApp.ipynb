{
 "cells": [
  {
   "cell_type": "markdown",
   "metadata": {},
   "source": [
    "# ATM App - beta version 1"
   ]
  },
  {
   "cell_type": "markdown",
   "metadata": {},
   "source": [
    "Design an **ATM Machine App** which performs following operations:\n",
    "\n",
    "1. WITHDRAW\n",
    "2. PIN CHANGE\n",
    "3. BALANCE CHECK **(BONUS: 1 mark)**\n",
    "\n",
    "Initially, a cashier will deposit amount in ATM in notes of 2000, 500 and 100. Take number of notes from user. Two dictionaries should be defined and created initially containing details of 5 customers. First dictionary contains name and 4 digit PIN and another dictionary contains name and current balance.\n",
    "\n",
    "**The above part has already been provided in the code below. You can continue with the same or modify it.**\n",
    "\n",
    "The process is as follows:\n",
    "1. Ask the customer to enter the name. If the name exists in dictionary, then proceed. Else ask for another name.\n",
    "2. Ask the 4 digit PIN of the customer. If the customer enters correct PIN, then proceed. Else ask to enter correct password for 2 more times.\n",
    "3. Display the options to choose any of the above 3 operations.\n",
    "4. In the **WITHDRAW** option, ask the user about the number of notes (each of 2000, 500 and 100) to be withdrawn. Once the withdrawal is successful, update the dictionary containing the current balance of the user. Also update the number of notes in ATM.\n",
    "5. In the **PIN CHANGE** option, ask the user to enter new PIN twice. Once the pin change is successful, update the dictionary containing the new PIN.\n",
    "6. **(BONUS)** In the **BALANCE CHECK** option, print a proper mini-statement of account balance details containing name and account balance.\n",
    "7. Repeat all the above processes using infinite while loop.\n",
    "8. Finally, if the keyboard interrupt happens, print the name and current balance of all 5 customers. **(Keyboard interrupt in Jupyter notebook is raised when you click on STOP button besides RUN button on top.)**"
   ]
  },
  {
   "cell_type": "code",
   "execution_count": 1,
   "metadata": {},
   "outputs": [
    {
     "name": "stdout",
     "output_type": "stream",
     "text": [
      "----------Cashier cash deposition----------\n",
      "\n",
      "Enter number of 2000 rupee notes to be filled: 5\n",
      "Enter number of 500 rupee notes to be filled: 5\n",
      "Enter number of 100 rupee notes to be filled: 5\n",
      "Total amount in ATM is Rs. 13000\n",
      "\n",
      "----------WELCOME TO BANK OF RAIT----------\n",
      "\n"
     ]
    }
   ],
   "source": [
    "# Dictionary of pin and balance of customers\n",
    "userpin = {\"user1\":1234, \"user2\":2345, \"user3\": 3456, \"user4\": 4567, \"user5\": 5678}\n",
    "userbal = {\"user1\":50000, \"user2\":20000, \"user3\": 5000, \"user4\": 10000, \"user5\": 8000}\n",
    "\n",
    "# Cash deposition of ATM\n",
    "print(\"----------Cashier cash deposition----------\\n\")\n",
    "amt2000 = int(input(\"Enter number of 2000 rupee notes to be filled: \"))\n",
    "amt500 = int(input(\"Enter number of 500 rupee notes to be filled: \"))\n",
    "amt100 = int(input(\"Enter number of 100 rupee notes to be filled: \"))\n",
    "amttotal = amt2000*2000 + amt500*500 + amt100*100\n",
    "print(\"Total amount in ATM is Rs. {0}\\n\".format(amttotal))\n",
    "\n",
    "# Start ATM code here\n",
    "print(\"----------WELCOME TO BANK OF RAIT----------\\n\")"
   ]
  },
  {
   "cell_type": "markdown",
   "metadata": {},
   "source": [
    "### 1. Ask the customer to enter the name. If the name exists in dictionary, then proceed. Else ask for another name."
   ]
  },
  {
   "cell_type": "code",
   "execution_count": null,
   "metadata": {},
   "outputs": [
    {
     "name": "stdout",
     "output_type": "stream",
     "text": [
      "Enter the name : user1\n",
      "Present,  / Enter the pin1234\n",
      "Present,  value = 1234\n",
      "1)WITHDRAW   2)PIN CHANGE  3)BALANCE CHECK  4)Quit\n",
      "Enter Option: 1\n",
      "Enter number of 2000 rupee notes to be filled: 1\n",
      "Enter number of 500 rupee notes to be filled: 1\n",
      "Enter number of 100 rupee notes to be filled: 1\n",
      "Total amount in ATM is Rs. 2600\n",
      "\n",
      "{'user1': 47400, 'user2': 20000, 'user3': 5000, 'user4': 10000, 'user5': 8000}\n"
     ]
    }
   ],
   "source": [
    "while True:\n",
    "    name=input(\"Enter the name : \")\n",
    "    if name in userpin.keys(): \n",
    "            print(\"Present, \", end =\" \") \n",
    "            pin=int(input(\"/ Enter the pin\"))\n",
    "            if pin in userpin.values():\n",
    "                print(\"Present, \", end =\" \") \n",
    "                print(\"value =\", userpin[name])\n",
    "            else:\n",
    "                print(\"Incorrect password you had entered...... and  You can enter password 2 more times\")\n",
    "            print(\"1)WITHDRAW   2)PIN CHANGE  3)BALANCE CHECK  4)Quit\")\n",
    "            Option=int(input(\"Enter Option: \"))\n",
    "            if Option==1:\n",
    "                #In the **WITHDRAW** option, ask the user about the number of notes (each of 2000, 500 and 100) to be withdrawn. Once the withdrawal is successful, \n",
    "                #update the dictionary containing the current balance of the user. Also update the number of notes in ATM.\n",
    "                amt2000 = int(input(\"Enter number of 2000 rupee notes to be filled: \"))\n",
    "                amt500 = int(input(\"Enter number of 500 rupee notes to be filled: \"))\n",
    "                amt100 = int(input(\"Enter number of 100 rupee notes to be filled: \"))\n",
    "                Withdraw_amount = amt2000*2000 + amt500*500 + amt100*100\n",
    "                print(\"Total amount in ATM is Rs. {0}\\n\".format(Withdraw_amount))\n",
    "                #print(\"Balance  \",Withdraw_amount)\n",
    "                if Withdraw_amount>0:\n",
    "                    userbal[name]=userbal[name]-Withdraw_amount\n",
    "                    print(userbal)\n",
    "                elif Withdraw_amount>balance:\n",
    "                    print(\"No funs in account\")\n",
    "                else:\n",
    "                    print(\"None withdraw made\")\n",
    "\n",
    "            if Option==2:\n",
    "                #5. In the **PIN CHANGE** option, ask the user to enter new PIN twice. \n",
    "                #Once the pin change is successful, update the dictionary containing the new PIN.\n",
    "                new_pin1=input(\"Enter the  new pin \")\n",
    "                new_pin2=input(\"Renter the  new pin \")\n",
    "                if  new_pin1==new_pin2 and new_pin1.isdigit() and len(new_pin1) == 4:\n",
    "                    userpin[name]=new_pin1\n",
    "                    print(userpin)\n",
    "                else:\n",
    "                    print(\"Enter a pin which only contains digits and the length of pin should be 4\")\n",
    "\n",
    "            if Option==3:\n",
    "                print(\"Nmae\",name)\n",
    "                print(\"Balance  \",userbal[name])\n",
    "\n",
    "\n",
    "            if Option==4:\n",
    "                exit()\n",
    "\n",
    "\n",
    "    else: \n",
    "        print(\"The name you entered is not present ....... Please enter another name\") \n"
   ]
  }
 ],
 "metadata": {
  "kernelspec": {
   "display_name": "Python 3",
   "language": "python",
   "name": "python3"
  },
  "language_info": {
   "codemirror_mode": {
    "name": "ipython",
    "version": 3
   },
   "file_extension": ".py",
   "mimetype": "text/x-python",
   "name": "python",
   "nbconvert_exporter": "python",
   "pygments_lexer": "ipython3",
   "version": "3.7.6"
  }
 },
 "nbformat": 4,
 "nbformat_minor": 2
}
